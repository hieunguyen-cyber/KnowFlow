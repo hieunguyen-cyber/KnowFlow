{
 "cells": [
  {
   "cell_type": "code",
   "execution_count": null,
   "metadata": {},
   "outputs": [],
   "source": [
    "from diffusers import StableDiffusionPipeline\n",
    "import torch\n",
    "\n",
    "def generate_image(prompt, model_name=\"CompVis/stable-diffusion-v1-4\", output_path=\"output.png\"):\n",
    "    # Load the pretrained model pipeline\n",
    "    pipe = StableDiffusionPipeline.from_pretrained(model_name)\n",
    "    pipe.to(torch.device(\"cuda\" if torch.cuda.is_available() else \"cpu\"))\n",
    "    \n",
    "    # Generate image\n",
    "    image = pipe(prompt).images[0]\n",
    "    \n",
    "    # Save image\n",
    "    image.save(output_path)\n",
    "    print(f\"Image saved to {output_path}\")\n",
    "\n",
    "# Example usage\n",
    "generate_image(\"A futuristic city with flying cars at sunset\")"
   ]
  }
 ],
 "metadata": {
  "kernelspec": {
   "display_name": "base",
   "language": "python",
   "name": "python3"
  },
  "language_info": {
   "codemirror_mode": {
    "name": "ipython",
    "version": 3
   },
   "file_extension": ".py",
   "mimetype": "text/x-python",
   "name": "python",
   "nbconvert_exporter": "python",
   "pygments_lexer": "ipython3",
   "version": "3.12.7"
  }
 },
 "nbformat": 4,
 "nbformat_minor": 2
}
