{
 "cells": [
  {
   "cell_type": "code",
   "execution_count": 10,
   "metadata": {},
   "outputs": [],
   "source": [
    "import torch\n",
    "from transformers import VitsModel, AutoTokenizer\n",
    "import torchaudio\n",
    "import numpy as np\n",
    "import os"
   ]
  },
  {
   "cell_type": "code",
   "execution_count": 11,
   "metadata": {},
   "outputs": [],
   "source": [
    "model = VitsModel.from_pretrained(\"facebook/mms-tts-vie\")\n",
    "tokenizer = AutoTokenizer.from_pretrained(\"facebook/mms-tts-vie\")"
   ]
  },
  {
   "cell_type": "code",
   "execution_count": 12,
   "metadata": {},
   "outputs": [],
   "source": [
    "# Đọc và load danh sách từ các file .txt trong thư mục ../data/text\n",
    "text_folder = \"../data/text\"\n",
    "text_files = sorted([f for f in os.listdir(text_folder) if f.endswith('.txt')])  # Lọc các file .txt trong thư mục"
   ]
  },
  {
   "cell_type": "code",
   "execution_count": 13,
   "metadata": {},
   "outputs": [],
   "source": [
    "def generate_audio(line):\n",
    "    #Tạo input cho mô hình\n",
    "    inputs = tokenizer(line, return_tensors=\"pt\")\n",
    "\n",
    "    with torch.no_grad():\n",
    "        # Sinh âm thanh từ mô hình\n",
    "        output = model(**inputs).waveform\n",
    "\n",
    "    # Đảm bảo output có dạng 2D [1, samples]\n",
    "    output = output.unsqueeze(0) if output.ndimension() == 1 else output\n",
    "    return output"
   ]
  },
  {
   "cell_type": "code",
   "execution_count": 14,
   "metadata": {},
   "outputs": [
    {
     "name": "stdout",
     "output_type": "stream",
     "text": [
      "Đã lưu 1_1.wav\n",
      "Đã lưu 1_10.wav\n",
      "Đã lưu 1_11.wav\n",
      "Đã lưu 1_12.wav\n",
      "Đã lưu 1_13.wav\n",
      "Đã lưu 1_14.wav\n",
      "Đã lưu 1_15.wav\n",
      "Đã lưu 1_2.wav\n",
      "Đã lưu 1_3.wav\n",
      "Đã lưu 1_4.wav\n",
      "Đã lưu 1_5.wav\n",
      "Đã lưu 1_6.wav\n",
      "Đã lưu 1_7.wav\n",
      "Đã lưu 1_8.wav\n",
      "Đã lưu 1_9.wav\n",
      "Đã lưu 2_1.wav\n",
      "Đã lưu 2_10.wav\n",
      "Đã lưu 2_11.wav\n",
      "Đã lưu 2_12.wav\n",
      "Đã lưu 2_13.wav\n",
      "Đã lưu 2_2.wav\n",
      "Đã lưu 2_3.wav\n",
      "Đã lưu 2_4.wav\n",
      "Đã lưu 2_5.wav\n",
      "Đã lưu 2_6.wav\n",
      "Đã lưu 2_7.wav\n",
      "Đã lưu 2_8.wav\n",
      "Đã lưu 2_9.wav\n",
      "Đã lưu 3_1.wav\n",
      "Đã lưu 3_10.wav\n",
      "Đã lưu 3_11.wav\n",
      "Đã lưu 3_12.wav\n",
      "Đã lưu 3_13.wav\n",
      "Đã lưu 3_2.wav\n",
      "Đã lưu 3_3.wav\n",
      "Đã lưu 3_4.wav\n",
      "Đã lưu 3_5.wav\n",
      "Đã lưu 3_6.wav\n",
      "Đã lưu 3_7.wav\n",
      "Đã lưu 3_8.wav\n",
      "Đã lưu 3_9.wav\n"
     ]
    }
   ],
   "source": [
    "for text_file in text_files:\n",
    "    with open(f\"../data/text/{text_file}\", \"r\", encoding=\"utf-8\") as file:\n",
    "        content = file.read()\n",
    "    audio_file = text_file.replace(\"txt\",\"wav\")\n",
    "    audio = generate_audio(content)\n",
    "    torchaudio.save(f\"../data/audio/{audio_file}\", audio, model.config.sampling_rate)\n",
    "    print(f\"Đã lưu {audio_file}\")\n"
   ]
  }
 ],
 "metadata": {
  "kernelspec": {
   "display_name": "base",
   "language": "python",
   "name": "python3"
  },
  "language_info": {
   "codemirror_mode": {
    "name": "ipython",
    "version": 3
   },
   "file_extension": ".py",
   "mimetype": "text/x-python",
   "name": "python",
   "nbconvert_exporter": "python",
   "pygments_lexer": "ipython3",
   "version": "3.12.7"
  }
 },
 "nbformat": 4,
 "nbformat_minor": 2
}
