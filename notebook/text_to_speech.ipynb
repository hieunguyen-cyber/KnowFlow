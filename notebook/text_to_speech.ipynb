{
 "cells": [
  {
   "cell_type": "code",
   "execution_count": 6,
   "metadata": {},
   "outputs": [],
   "source": [
    "import torch\n",
    "from transformers import VitsModel, AutoTokenizer\n",
    "import torchaudio\n",
    "import numpy as np\n",
    "import os"
   ]
  },
  {
   "cell_type": "code",
   "execution_count": 2,
   "metadata": {},
   "outputs": [
    {
     "name": "stdout",
     "output_type": "stream",
     "text": [
      "['Đoạn văn mở đầu của \"Hai đứa trẻ\" của Thạch Lam giới thiệu một tác phẩm văn học kinh điển của Việt Nam, khắc họa sống động đời sống nghèo khổ và nỗi buồn của những kiếp người ở vùng quê đầu thế kỷ 20.\\n\\nTruyện kể về hai đứa trẻ, Liên và An, sống trong cảnh nghèo khó tại một làng quê \"dài và hẹp\" bên cạnh đường xe lửa. Gia đình các em phải bán quán nước nhỏ để kiếm sống, nhưng rồi cũng không đủ chi tiêu sau khi cha mất. Trong buổi chiều tà ảm đạm, Liên và An thường ngồi đợi tàu ở sân ga, ngắm nhìn những đoàn tàu chạy ngang mang theo ánh sáng và tiếng còi rộn ràng, khơi dậy khao khát về một cuộc sống tươi đẹp hơn.\\n\\nNgôn ngữ của Thạch Lam trong đoạn văn này vừa cô đọng vừa gợi cảm, tạo nên bức tranh sống động về cuộc sống thôn quê Việt Nam đầu thế kỷ. Câu văn ngắn, giàu sức biểu cảm, chẳng hạn như \"dài và hẹp\", \"đen sẫm\", \"ảm đạm\", truyền tải cảm giác ngột ngạt và buồn bã bao trùm lên khung cảnh làng quê. Việc sử dụng từ láy \"dài và hẹp\" càng tô đậm sự nghèo nàn, thiếu sức sống của làng quê, nơi mà cuộc sống dường như cứ kéo dài vô tận trong cảnh tối tăm và bế tắc.\\n\\nBên cạnh đó, Thạch Lam còn sử dụng những ẩn dụ tinh tế để truyền tải thông điệp về nỗi buồn và khao khát của các nhân vật. Ánh đèn của đoàn tàu chạy ngang tượng trưng cho một thế giới khác, một cuộc sống tươi đẹp và rực rỡ mà hai đứa trẻ chỉ có thể mơ ước. Những tiếng còi tàu vang lên như tiếng gọi mời, thôi thúc Liên và An bước ra khỏi thế giới buồn tẻ của chính mình, nhưng cuối cùng lại chỉ để lại sự trống rỗng và thất vọng.\\n\\nĐoạn văn mở đầu của \"Hai đứa trẻ\" vừa là bức tranh chân thực về cuộc sống thôn quê Việt Nam vừa là ẩn dụ cho nỗi buồn và khao khát về một cuộc sống tươi đẹp hơn. Qua đó, Thạch Lam không chỉ phản ánh hiện thực xã hội mà còn khắc họa chiều sâu tâm lý và nỗi đau của những con người đầy khát vọng nhưng luôn bị kìm kẹp trong cảnh nghèo khó.', 'Đoạn văn khắc họa bức tranh phố huyện với những gam màu tĩnh lặng và u buồn, phản ánh cuộc sống khó khăn, vất vả, nhưng cũng chất chứa những ước mơ giản dị của người dân.\\n\\nKhung cảnh thiên nhiên hiện lên vào thời điểm chiều tối, tạo nên một bầu không khí buồn man mác. Những hình ảnh bình dị như \"ánh đèn leo lét\", \"khói bếp tỏa lên\" gợi lên sự lam lũ, thiếu thốn. Âm thanh \"tiếng trống thu không\" và \"tiếng rao đêm\" càng làm tăng thêm cảm giác nặng nề, cô đơn. Bức tranh thiên nhiên ấy không chỉ là bối cảnh mà còn là ẩn dụ cho cuộc sống của người dân phố huyện, cũng buồn tẻ và ảm đạm.\\n\\nSinh hoạt của người dân phố huyện cũng phản ánh cuộc sống khó khăn của họ. Chị Tí phải \"bán khoai nướng\" để kiếm sống, bác Xẩm \"dạo phố mò đàn\", bác phở Siêu \"dọn hàng\" trong đêm khuya. Những công việc lam lũ ấy cho thấy cuộc sống chật vật, mưu sinh từng bữa. Tuy nhiên, dù khó khăn, người dân vẫn giữ những ước mơ giản dị. Gia đình Liên mong muốn được \"sống trong căn nhà rộng\" và \"có đủ cơm ăn\", còn bác Xẩm thì mơ về \"một ngày nào đó được ngồi đánh đàn trong một buổi hòa nhạc\". Những ước mơ ấy tuy nhỏ nhoi nhưng lại là động lực giúp họ vượt qua những khó khăn, tiếp tục sống và hy vọng.\\n\\nCách sử dụng ngôn từ trong đoạn văn góp phần khắc họa nỗi buồn man mác và cuộc sống khó khăn của người dân. Từ \"leo lét\", \"tỏa lên\" gợi cảm giác u ám, thiếu thốn. Những từ tượng hình như \"rao đêm\", \"dạo phố\" lại tái hiện sinh động cảnh sinh hoạt của người dân phố huyện. Thiếu vắng những gam màu tươi sáng, đoạn văn như một bản nhạc buồn, ngân nga về cuộc sống lam lũ của người dân.\\n\\nĐoạn văn được kết nối chặt chẽ bởi mạch cảm xúc buồn man mác và cuộc sống khó khăn của người dân. Bức tranh thiên nhiên, cảnh sinh hoạt và ước mơ giản dị tạo nên một tổng thể thống nhất, phản ánh chân thực cuộc sống của người dân phố huyện thời xưa.', 'Đoạn văn trên khắc họa góc nhìn nhân đạo sâu sắc của Thạch Lam trong \"Gió lạnh đầu mùa\". Tình cảm này không chỉ dừng lại ở sự thương cảm mà còn thể hiện qua sự đồng cảm, trân trọng và thương mến đối với những phận đời nghèo khổ nơi phố huyện.\\n\\nThạch Lam đồng cảm sâu sắc với nỗi cơ cực của những người dân nghèo. Viết về lão Hạc, ông miêu tả cảnh ông già \"nằm trên giường, đắp chiếc chăn bông, rách tả tơi, thở một cách khó nhọc\". Ngôn từ \"rách tả tơi\" vừa gợi tả thực chất của chiếc chăn vừa phản ánh cuộc sống đạm bạc, túng thiếu của lão. Tương tự, cảnh \"thằng Dần gầy còm như que củi, sắt lại vì rét\" khiến người đọc xót xa trước nỗi khổ của những đứa trẻ nghèo trong xã hội lúc bấy giờ.\\n\\nBên cạnh sự đồng cảm, Thạch Lam cũng hết mực trân trọng những giá trị tinh thần tốt đẹp tiềm ẩn nơi những con người bất hạnh. Ông không tô vẽ họ như những kẻ đáng thương hại mà nhấn mạnh sức sống mãnh liệt, lòng tự trọng và sự nhân hậu của họ. Ở lão Hạc, đó là tình yêu thương dành cho đứa con trai xa xứ, cho con chó Vàng và niềm kiêu hãnh của một người nông dân nghèo. Còn ở đứa trẻ nghèo như thằng Dần, đó là lòng biết ơn sâu nặng với những ân tình nhỏ bé mà chúng nhận được.\\n\\nNhững thông điệp sâu sắc về sự khao khát đổi đời của con người cũng được Thạch Lam gửi gắm vào tác phẩm. Nhân vật lão Hạc là hiện thân của những người nông dân chất phác, luôn nuôi dưỡng hi vọng về một cuộc sống tốt đẹp hơn. Tuy nhiên, cuộc đời nghiệt ngã đã đẩy lão vào hoàn cảnh bi đát, khiến ước mơ thoát khỏi nghèo đói mãi mãi là một giấc mơ xa vời. Qua câu chuyện về lão Hạc, Thạch Lam khơi dậy trong người đọc nỗi xót xa và trăn trở trước số phận những con người bị xã hội bỏ rơi.\\n\\nNgoài ra, cách sử dụng ngôn từ tinh tế, giàu hình ảnh của Thạch Lam cũng góp phần truyền tải trọn vẹn thông điệp nhân đạo của tác giả. Những câu văn ngắn gọn, giản dị nhưng chứa đựng sức gợi lớn, khắc họa sống động cuộc sống cơ cực và nỗi đau của những người nghèo khổ. Ví dụ, cảnh \"đêm rét mướt, tiếng mưa dột mỗi lúc nghe càng rõ hơn\" không chỉ tả cơn mưa mà còn gợi lên nỗi thống khổ, lạnh lẽo đến cùng cực của lão Hạc.\\n\\nNói tóm lại, đoạn văn thứ ba của \"Phân tích tác phẩm dưới góc độ nhân đạo\" trong \"Gió lạnh đầu mùa\" của Thạch Lam thể hiện sâu sắc tình cảm nhân đạo của tác giả đối với những phận đời bất hạnh nơi phố huyện. Qua đó, Thạch Lam cũng gửi gắm những thông điệp giá trị về sự khao khát đổi đời và nỗi xót xa trước số phận của những con người bị xã hội bỏ rơi.']\n"
     ]
    }
   ],
   "source": [
    "model = VitsModel.from_pretrained(\"facebook/mms-tts-vie\")\n",
    "tokenizer = AutoTokenizer.from_pretrained(\"facebook/mms-tts-vie\")"
   ]
  },
  {
   "cell_type": "code",
   "execution_count": 11,
   "metadata": {},
   "outputs": [
    {
     "name": "stdout",
     "output_type": "stream",
     "text": [
      "3_9.txt\n"
     ]
    }
   ],
   "source": [
    "# Đọc và load danh sách từ các file .txt trong thư mục ../data/text\n",
    "text_folder = \"./data/text\"\n",
    "text_files = [f for f in os.listdir(text_folder) if f.endswith('.txt')]  # Lọc các file .txt trong thư mục"
   ]
  },
  {
   "cell_type": "code",
   "execution_count": 12,
   "metadata": {},
   "outputs": [],
   "source": [
    "def generate_audio(line):\n",
    "    #Tạo input cho mô hình\n",
    "    inputs = tokenizer(line, return_tensors=\"pt\")\n",
    "\n",
    "    with torch.no_grad():\n",
    "        # Sinh âm thanh từ mô hình\n",
    "        output = model(**inputs).waveform\n",
    "\n",
    "    # Đảm bảo output có dạng 2D [1, samples]\n",
    "    output = output.unsqueeze(0) if output.ndimension() == 1 else output\n",
    "    return output"
   ]
  },
  {
   "cell_type": "code",
   "execution_count": 15,
   "metadata": {},
   "outputs": [
    {
     "name": "stdout",
     "output_type": "stream",
     "text": [
      "Đã lưu 3_17.wav\n",
      "Đã lưu 3_9.wav\n",
      "Đã lưu 1_12.wav\n",
      "Đã lưu 1_13.wav\n",
      "Đã lưu 3_8.wav\n",
      "Đã lưu 3_16.wav\n",
      "Đã lưu 3_14.wav\n",
      "Đã lưu 1_8.wav\n",
      "Đã lưu 1_11.wav\n",
      "Đã lưu 1_10.wav\n",
      "Đã lưu 1_9.wav\n",
      "Đã lưu 3_15.wav\n",
      "Đã lưu 3_11.wav\n",
      "Đã lưu 1_14.wav\n",
      "Đã lưu 3_10.wav\n",
      "Đã lưu 3_12.wav\n",
      "Đã lưu 3_13.wav\n",
      "Đã lưu 2_20.wav\n",
      "Đã lưu 2_21.wav\n",
      "Đã lưu 2_9.wav\n",
      "Đã lưu 2_8.wav\n",
      "Đã lưu 2_22.wav\n",
      "Đã lưu 2_19.wav\n",
      "Đã lưu 2_18.wav\n",
      "Đã lưu 2_15.wav\n",
      "Đã lưu 2_3.wav\n",
      "Đã lưu 2_2.wav\n",
      "Đã lưu 2_14.wav\n",
      "Đã lưu 2_16.wav\n",
      "Đã lưu 2_1.wav\n",
      "Đã lưu 2_17.wav\n",
      "Đã lưu 2_13.wav\n",
      "Đã lưu 2_5.wav\n",
      "Đã lưu 2_4.wav\n",
      "Đã lưu 2_12.wav\n",
      "Đã lưu 2_10.wav\n",
      "Đã lưu 2_6.wav\n",
      "Đã lưu 2_7.wav\n",
      "Đã lưu 2_11.wav\n",
      "Đã lưu 3_22.wav\n",
      "Đã lưu 1_2.wav\n",
      "Đã lưu 3_1.wav\n",
      "Đã lưu 1_3.wav\n",
      "Đã lưu 3_21.wav\n",
      "Đã lưu 1_1.wav\n",
      "Đã lưu 3_3.wav\n",
      "Đã lưu 3_2.wav\n",
      "Đã lưu 3_20.wav\n",
      "Đã lưu 3_18.wav\n",
      "Đã lưu 1_4.wav\n",
      "Đã lưu 3_6.wav\n",
      "Đã lưu 3_7.wav\n",
      "Đã lưu 1_5.wav\n",
      "Đã lưu 3_19.wav\n",
      "Đã lưu 1_7.wav\n",
      "Đã lưu 3_5.wav\n",
      "Đã lưu 3_4.wav\n",
      "Đã lưu 1_6.wav\n"
     ]
    }
   ],
   "source": [
    "for text_file in text_files:\n",
    "    with open(f\"./data/text/{text_file}\", \"r\", encoding=\"utf-8\") as file:\n",
    "        content = file.read()\n",
    "    audio_file = text_file.replace(\"txt\",\"wav\")\n",
    "    audio = generate_audio(content)\n",
    "    torchaudio.save(f\"./data/audio/{audio_file}\", audio, model.config.sampling_rate)\n",
    "    print(f\"Đã lưu {audio_file}\")\n"
   ]
  }
 ],
 "metadata": {
  "kernelspec": {
   "display_name": "base",
   "language": "python",
   "name": "python3"
  },
  "language_info": {
   "codemirror_mode": {
    "name": "ipython",
    "version": 3
   },
   "file_extension": ".py",
   "mimetype": "text/x-python",
   "name": "python",
   "nbconvert_exporter": "python",
   "pygments_lexer": "ipython3",
   "version": "3.12.7"
  }
 },
 "nbformat": 4,
 "nbformat_minor": 2
}
